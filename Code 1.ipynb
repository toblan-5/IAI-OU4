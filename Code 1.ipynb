{
 "cells": [
  {
   "cell_type": "code",
   "execution_count": 4,
   "metadata": {},
   "outputs": [
    {
     "name": "stdout",
     "output_type": "stream",
     "text": [
      "Successfully loaded Bridge data: 25 rows\n",
      "Successfully loaded RailJoint data: 20 rows\n",
      "Successfully loaded Turnout data: 75 rows\n",
      "Data counts per category:\n",
      " Category\n",
      "Turnout      75\n",
      "Bridge       25\n",
      "RailJoint    20\n",
      "Name: count, dtype: int64\n",
      "Data summary:\n",
      "          Latitude   Longitude\n",
      "count  120.000000  120.000000\n",
      "mean    60.792431   14.921160\n",
      "std      0.191516    0.284255\n",
      "min     60.510878   14.518605\n",
      "25%     60.587961   14.570193\n",
      "50%     60.748120   15.064924\n",
      "75%     61.007341   15.120486\n",
      "max     61.009065   15.352741\n",
      "Missing values per column:\n",
      " Latitude     0\n",
      "Longitude    0\n",
      "Category     0\n",
      "dtype: int64\n",
      "Bridge: 25 rows\n",
      "Sample coordinates for Bridge:\n",
      "    Latitude  Longitude\n",
      "0  60.529364  15.295477\n",
      "1  60.535942  15.280320\n",
      "RailJoint: 20 rows\n",
      "Sample coordinates for RailJoint:\n",
      "    Latitude  Longitude\n",
      "25  60.54932  15.271503\n",
      "26  60.55242  15.256577\n",
      "Turnout: 75 rows\n",
      "Sample coordinates for Turnout:\n",
      "     Latitude  Longitude\n",
      "45  60.687000  15.112570\n",
      "46  60.687337  15.111958\n"
     ]
    },
    {
     "data": {
      "application/vnd.plotly.v1+json": {
       "config": {
        "plotlyServerURL": "https://plot.ly"
       },
       "data": [
        {
         "lat": [
          60.52936372386311,
          60.535941792276944,
          60.54082317753809,
          60.55965882484683,
          60.66839598867694,
          60.68006875731967,
          60.684699243186834,
          60.70058440989512,
          60.72837356474122,
          60.757444112730965,
          60.83566211947669,
          60.880502240415865,
          60.89103306252984,
          60.893415998209655,
          60.90532770574801,
          60.90468095785578,
          60.886703465189015,
          60.959585047514025,
          60.98012950034629,
          60.98422051977239,
          61.00165530406044,
          61.007852449719785,
          61.00827713648582,
          61.0066975039875,
          61.0085103863802
         ],
         "lon": [
          15.29547737763762,
          15.280320287496243,
          15.281729505210397,
          15.14053610293568,
          15.101612627189091,
          15.087609240723628,
          15.076783521619348,
          15.053064272418023,
          15.006966461702426,
          15.018055789273836,
          15.086838927810089,
          15.117703671288703,
          15.107515996621544,
          15.102714455174072,
          14.96174884499215,
          14.960606716630735,
          14.914496301136042,
          14.707964713045532,
          14.64888770796171,
          14.637588168808964,
          14.581567260014188,
          14.573699758690278,
          14.56890406326446,
          14.518605115540874,
          14.574504689433718
         ],
         "marker": {
          "color": "red",
          "size": 10
         },
         "mode": "markers",
         "name": "Bridge",
         "type": "scattermapbox"
        },
        {
         "lat": [
          60.5493201268924,
          60.55242029003195,
          60.55248380375592,
          60.55391244932418,
          60.5541366687009,
          60.554164800959306,
          60.55354821252037,
          60.55348614527968,
          60.55217324667105,
          60.55198914897282,
          60.55190145869551,
          60.55188590115278,
          60.55198531299621,
          60.55390911647176,
          60.55402654163549,
          60.55655445143218,
          60.55890996205172,
          60.56130829924911,
          60.56147024128368,
          60.56558745630505
         ],
         "lon": [
          15.271502572990537,
          15.256577288703705,
          15.256231359413189,
          15.23616694311178,
          15.231172409166351,
          15.230479710103646,
          15.212460277704992,
          15.211967557772905,
          15.19564037293745,
          15.192576124288072,
          15.191116970458728,
          15.176311768123949,
          15.175820019526157,
          15.166950488519133,
          15.166385836811218,
          15.154801035677403,
          15.143961377692484,
          15.134305803437892,
          15.13397818616309,
          15.128833134640889
         ],
         "marker": {
          "color": "blue",
          "size": 8
         },
         "mode": "markers",
         "name": "RailJoint",
         "type": "scattermapbox"
        },
        {
         "lat": [
          60.68700015475074,
          60.68733654691207,
          60.68747830909727,
          60.68763795528936,
          60.68766034685152,
          60.68786697813342,
          60.687898701107336,
          60.68785389894345,
          60.68897010295911,
          60.68918729620464,
          60.68951298229658,
          60.68951298229658,
          60.515374349218256,
          60.51087815584757,
          60.51299956064725,
          60.51470461175972,
          60.51506107786869,
          60.51530506419325,
          60.59541838306979,
          60.60008024908255,
          60.60039494846161,
          60.66419866277731,
          60.66484148955541,
          60.66963195636378,
          60.67144057518853,
          60.67566513628743,
          60.73070179497076,
          60.73135938084681,
          60.73465329519976,
          60.73551674937655,
          60.738795173151935,
          60.817739227820994,
          60.82049382415455,
          60.883922040624654,
          60.88837743049677,
          60.89081699940103,
          60.910131953227605,
          60.91208129869529,
          60.91482867794281,
          60.99991514292599,
          61.00019850782083,
          61.00303274145896,
          61.00371010638769,
          61.00366732720627,
          61.00454474670058,
          61.00535012254345,
          61.008196964276806,
          61.00836709791687,
          61.008401426422026,
          61.00843462638418,
          61.00841938872564,
          61.00844331700013,
          61.00860252248706,
          61.008454971890416,
          61.00848017255003,
          61.008515188983736,
          61.0084861075054,
          61.0084797385472,
          61.00844304154016,
          61.00842760458725,
          61.00842533536824,
          61.00850554848979,
          61.00853477212555,
          61.008511679004,
          61.00863404635977,
          61.00864256867715,
          61.00875083335114,
          61.008799700138994,
          61.00891621606786,
          61.0090631707164,
          61.00897902680372,
          61.00906511297079,
          61.00892657179086,
          61.00717004842644,
          61.00407955796885
         ],
         "lon": [
          15.112570064257136,
          15.111958238800293,
          15.111750002627284,
          15.111196690008928,
          15.111370159599424,
          15.11110593158572,
          15.1107449721534,
          15.110636607528397,
          15.108640030677575,
          15.108187028610509,
          15.107465399124616,
          15.107465399124616,
          15.340691751521389,
          15.35274052798546,
          15.346458880094747,
          15.34255947525008,
          15.34153770275366,
          15.340855846779842,
          15.087676346754334,
          15.078450509985172,
          15.07782768762775,
          15.103179655975964,
          15.103327537104883,
          15.100413153405364,
          15.098575017886546,
          15.094240831690051,
          15.005333395787034,
          15.00487385901845,
          15.00286542511583,
          15.00207114901709,
          15.001030636943018,
          15.01668080634016,
          15.02923455262964,
          15.116716873181211,
          15.110958160446,
          15.107804188290409,
          14.826409549925549,
          14.822100260298956,
          14.81602543820367,
          14.58703230257089,
          14.586012995518342,
          14.579814113464504,
          14.579229152678282,
          14.578984890846709,
          14.57820770524808,
          14.577361902073346,
          14.57062214903588,
          14.566913969555054,
          14.566113623772353,
          14.566051954578606,
          14.564749608530184,
          14.564207767270124,
          14.563576590307663,
          14.56278724303389,
          14.562252594894106,
          14.561479048314805,
          14.56131558942698,
          14.56073772894432,
          14.560496699977543,
          14.55989233408899,
          14.559197164103562,
          14.5590168417512,
          14.558344350620196,
          14.558146411729693,
          14.557132140689363,
          14.55699331364108,
          14.555788552416336,
          14.555305902026374,
          14.554211795961134,
          14.55447883352388,
          14.553440798275108,
          14.55327406174358,
          14.551457802176811,
          14.546765230665498,
          14.541325897012154
         ],
         "marker": {
          "color": "green",
          "size": 12
         },
         "mode": "markers",
         "name": "Turnout",
         "type": "scattermapbox"
        }
       ],
       "layout": {
        "height": 800,
        "legend": {
         "title": {
          "text": "Legend"
         }
        },
        "mapbox": {
         "center": {
          "lat": 60.792430700002846,
          "lon": 14.921159913486997
         },
         "style": "open-street-map",
         "zoom": 10
        },
        "margin": {
         "b": 0,
         "l": 50,
         "r": 0,
         "t": 50
        },
        "template": {
         "data": {
          "bar": [
           {
            "error_x": {
             "color": "#2a3f5f"
            },
            "error_y": {
             "color": "#2a3f5f"
            },
            "marker": {
             "line": {
              "color": "#E5ECF6",
              "width": 0.5
             },
             "pattern": {
              "fillmode": "overlay",
              "size": 10,
              "solidity": 0.2
             }
            },
            "type": "bar"
           }
          ],
          "barpolar": [
           {
            "marker": {
             "line": {
              "color": "#E5ECF6",
              "width": 0.5
             },
             "pattern": {
              "fillmode": "overlay",
              "size": 10,
              "solidity": 0.2
             }
            },
            "type": "barpolar"
           }
          ],
          "carpet": [
           {
            "aaxis": {
             "endlinecolor": "#2a3f5f",
             "gridcolor": "white",
             "linecolor": "white",
             "minorgridcolor": "white",
             "startlinecolor": "#2a3f5f"
            },
            "baxis": {
             "endlinecolor": "#2a3f5f",
             "gridcolor": "white",
             "linecolor": "white",
             "minorgridcolor": "white",
             "startlinecolor": "#2a3f5f"
            },
            "type": "carpet"
           }
          ],
          "choropleth": [
           {
            "colorbar": {
             "outlinewidth": 0,
             "ticks": ""
            },
            "type": "choropleth"
           }
          ],
          "contour": [
           {
            "colorbar": {
             "outlinewidth": 0,
             "ticks": ""
            },
            "colorscale": [
             [
              0,
              "#0d0887"
             ],
             [
              0.1111111111111111,
              "#46039f"
             ],
             [
              0.2222222222222222,
              "#7201a8"
             ],
             [
              0.3333333333333333,
              "#9c179e"
             ],
             [
              0.4444444444444444,
              "#bd3786"
             ],
             [
              0.5555555555555556,
              "#d8576b"
             ],
             [
              0.6666666666666666,
              "#ed7953"
             ],
             [
              0.7777777777777778,
              "#fb9f3a"
             ],
             [
              0.8888888888888888,
              "#fdca26"
             ],
             [
              1,
              "#f0f921"
             ]
            ],
            "type": "contour"
           }
          ],
          "contourcarpet": [
           {
            "colorbar": {
             "outlinewidth": 0,
             "ticks": ""
            },
            "type": "contourcarpet"
           }
          ],
          "heatmap": [
           {
            "colorbar": {
             "outlinewidth": 0,
             "ticks": ""
            },
            "colorscale": [
             [
              0,
              "#0d0887"
             ],
             [
              0.1111111111111111,
              "#46039f"
             ],
             [
              0.2222222222222222,
              "#7201a8"
             ],
             [
              0.3333333333333333,
              "#9c179e"
             ],
             [
              0.4444444444444444,
              "#bd3786"
             ],
             [
              0.5555555555555556,
              "#d8576b"
             ],
             [
              0.6666666666666666,
              "#ed7953"
             ],
             [
              0.7777777777777778,
              "#fb9f3a"
             ],
             [
              0.8888888888888888,
              "#fdca26"
             ],
             [
              1,
              "#f0f921"
             ]
            ],
            "type": "heatmap"
           }
          ],
          "heatmapgl": [
           {
            "colorbar": {
             "outlinewidth": 0,
             "ticks": ""
            },
            "colorscale": [
             [
              0,
              "#0d0887"
             ],
             [
              0.1111111111111111,
              "#46039f"
             ],
             [
              0.2222222222222222,
              "#7201a8"
             ],
             [
              0.3333333333333333,
              "#9c179e"
             ],
             [
              0.4444444444444444,
              "#bd3786"
             ],
             [
              0.5555555555555556,
              "#d8576b"
             ],
             [
              0.6666666666666666,
              "#ed7953"
             ],
             [
              0.7777777777777778,
              "#fb9f3a"
             ],
             [
              0.8888888888888888,
              "#fdca26"
             ],
             [
              1,
              "#f0f921"
             ]
            ],
            "type": "heatmapgl"
           }
          ],
          "histogram": [
           {
            "marker": {
             "pattern": {
              "fillmode": "overlay",
              "size": 10,
              "solidity": 0.2
             }
            },
            "type": "histogram"
           }
          ],
          "histogram2d": [
           {
            "colorbar": {
             "outlinewidth": 0,
             "ticks": ""
            },
            "colorscale": [
             [
              0,
              "#0d0887"
             ],
             [
              0.1111111111111111,
              "#46039f"
             ],
             [
              0.2222222222222222,
              "#7201a8"
             ],
             [
              0.3333333333333333,
              "#9c179e"
             ],
             [
              0.4444444444444444,
              "#bd3786"
             ],
             [
              0.5555555555555556,
              "#d8576b"
             ],
             [
              0.6666666666666666,
              "#ed7953"
             ],
             [
              0.7777777777777778,
              "#fb9f3a"
             ],
             [
              0.8888888888888888,
              "#fdca26"
             ],
             [
              1,
              "#f0f921"
             ]
            ],
            "type": "histogram2d"
           }
          ],
          "histogram2dcontour": [
           {
            "colorbar": {
             "outlinewidth": 0,
             "ticks": ""
            },
            "colorscale": [
             [
              0,
              "#0d0887"
             ],
             [
              0.1111111111111111,
              "#46039f"
             ],
             [
              0.2222222222222222,
              "#7201a8"
             ],
             [
              0.3333333333333333,
              "#9c179e"
             ],
             [
              0.4444444444444444,
              "#bd3786"
             ],
             [
              0.5555555555555556,
              "#d8576b"
             ],
             [
              0.6666666666666666,
              "#ed7953"
             ],
             [
              0.7777777777777778,
              "#fb9f3a"
             ],
             [
              0.8888888888888888,
              "#fdca26"
             ],
             [
              1,
              "#f0f921"
             ]
            ],
            "type": "histogram2dcontour"
           }
          ],
          "mesh3d": [
           {
            "colorbar": {
             "outlinewidth": 0,
             "ticks": ""
            },
            "type": "mesh3d"
           }
          ],
          "parcoords": [
           {
            "line": {
             "colorbar": {
              "outlinewidth": 0,
              "ticks": ""
             }
            },
            "type": "parcoords"
           }
          ],
          "pie": [
           {
            "automargin": true,
            "type": "pie"
           }
          ],
          "scatter": [
           {
            "fillpattern": {
             "fillmode": "overlay",
             "size": 10,
             "solidity": 0.2
            },
            "type": "scatter"
           }
          ],
          "scatter3d": [
           {
            "line": {
             "colorbar": {
              "outlinewidth": 0,
              "ticks": ""
             }
            },
            "marker": {
             "colorbar": {
              "outlinewidth": 0,
              "ticks": ""
             }
            },
            "type": "scatter3d"
           }
          ],
          "scattercarpet": [
           {
            "marker": {
             "colorbar": {
              "outlinewidth": 0,
              "ticks": ""
             }
            },
            "type": "scattercarpet"
           }
          ],
          "scattergeo": [
           {
            "marker": {
             "colorbar": {
              "outlinewidth": 0,
              "ticks": ""
             }
            },
            "type": "scattergeo"
           }
          ],
          "scattergl": [
           {
            "marker": {
             "colorbar": {
              "outlinewidth": 0,
              "ticks": ""
             }
            },
            "type": "scattergl"
           }
          ],
          "scattermapbox": [
           {
            "marker": {
             "colorbar": {
              "outlinewidth": 0,
              "ticks": ""
             }
            },
            "type": "scattermapbox"
           }
          ],
          "scatterpolar": [
           {
            "marker": {
             "colorbar": {
              "outlinewidth": 0,
              "ticks": ""
             }
            },
            "type": "scatterpolar"
           }
          ],
          "scatterpolargl": [
           {
            "marker": {
             "colorbar": {
              "outlinewidth": 0,
              "ticks": ""
             }
            },
            "type": "scatterpolargl"
           }
          ],
          "scatterternary": [
           {
            "marker": {
             "colorbar": {
              "outlinewidth": 0,
              "ticks": ""
             }
            },
            "type": "scatterternary"
           }
          ],
          "surface": [
           {
            "colorbar": {
             "outlinewidth": 0,
             "ticks": ""
            },
            "colorscale": [
             [
              0,
              "#0d0887"
             ],
             [
              0.1111111111111111,
              "#46039f"
             ],
             [
              0.2222222222222222,
              "#7201a8"
             ],
             [
              0.3333333333333333,
              "#9c179e"
             ],
             [
              0.4444444444444444,
              "#bd3786"
             ],
             [
              0.5555555555555556,
              "#d8576b"
             ],
             [
              0.6666666666666666,
              "#ed7953"
             ],
             [
              0.7777777777777778,
              "#fb9f3a"
             ],
             [
              0.8888888888888888,
              "#fdca26"
             ],
             [
              1,
              "#f0f921"
             ]
            ],
            "type": "surface"
           }
          ],
          "table": [
           {
            "cells": {
             "fill": {
              "color": "#EBF0F8"
             },
             "line": {
              "color": "white"
             }
            },
            "header": {
             "fill": {
              "color": "#C8D4E3"
             },
             "line": {
              "color": "white"
             }
            },
            "type": "table"
           }
          ]
         },
         "layout": {
          "annotationdefaults": {
           "arrowcolor": "#2a3f5f",
           "arrowhead": 0,
           "arrowwidth": 1
          },
          "autotypenumbers": "strict",
          "coloraxis": {
           "colorbar": {
            "outlinewidth": 0,
            "ticks": ""
           }
          },
          "colorscale": {
           "diverging": [
            [
             0,
             "#8e0152"
            ],
            [
             0.1,
             "#c51b7d"
            ],
            [
             0.2,
             "#de77ae"
            ],
            [
             0.3,
             "#f1b6da"
            ],
            [
             0.4,
             "#fde0ef"
            ],
            [
             0.5,
             "#f7f7f7"
            ],
            [
             0.6,
             "#e6f5d0"
            ],
            [
             0.7,
             "#b8e186"
            ],
            [
             0.8,
             "#7fbc41"
            ],
            [
             0.9,
             "#4d9221"
            ],
            [
             1,
             "#276419"
            ]
           ],
           "sequential": [
            [
             0,
             "#0d0887"
            ],
            [
             0.1111111111111111,
             "#46039f"
            ],
            [
             0.2222222222222222,
             "#7201a8"
            ],
            [
             0.3333333333333333,
             "#9c179e"
            ],
            [
             0.4444444444444444,
             "#bd3786"
            ],
            [
             0.5555555555555556,
             "#d8576b"
            ],
            [
             0.6666666666666666,
             "#ed7953"
            ],
            [
             0.7777777777777778,
             "#fb9f3a"
            ],
            [
             0.8888888888888888,
             "#fdca26"
            ],
            [
             1,
             "#f0f921"
            ]
           ],
           "sequentialminus": [
            [
             0,
             "#0d0887"
            ],
            [
             0.1111111111111111,
             "#46039f"
            ],
            [
             0.2222222222222222,
             "#7201a8"
            ],
            [
             0.3333333333333333,
             "#9c179e"
            ],
            [
             0.4444444444444444,
             "#bd3786"
            ],
            [
             0.5555555555555556,
             "#d8576b"
            ],
            [
             0.6666666666666666,
             "#ed7953"
            ],
            [
             0.7777777777777778,
             "#fb9f3a"
            ],
            [
             0.8888888888888888,
             "#fdca26"
            ],
            [
             1,
             "#f0f921"
            ]
           ]
          },
          "colorway": [
           "#636efa",
           "#EF553B",
           "#00cc96",
           "#ab63fa",
           "#FFA15A",
           "#19d3f3",
           "#FF6692",
           "#B6E880",
           "#FF97FF",
           "#FECB52"
          ],
          "font": {
           "color": "#2a3f5f"
          },
          "geo": {
           "bgcolor": "white",
           "lakecolor": "white",
           "landcolor": "#E5ECF6",
           "showlakes": true,
           "showland": true,
           "subunitcolor": "white"
          },
          "hoverlabel": {
           "align": "left"
          },
          "hovermode": "closest",
          "mapbox": {
           "style": "light"
          },
          "paper_bgcolor": "white",
          "plot_bgcolor": "#E5ECF6",
          "polar": {
           "angularaxis": {
            "gridcolor": "white",
            "linecolor": "white",
            "ticks": ""
           },
           "bgcolor": "#E5ECF6",
           "radialaxis": {
            "gridcolor": "white",
            "linecolor": "white",
            "ticks": ""
           }
          },
          "scene": {
           "xaxis": {
            "backgroundcolor": "#E5ECF6",
            "gridcolor": "white",
            "gridwidth": 2,
            "linecolor": "white",
            "showbackground": true,
            "ticks": "",
            "zerolinecolor": "white"
           },
           "yaxis": {
            "backgroundcolor": "#E5ECF6",
            "gridcolor": "white",
            "gridwidth": 2,
            "linecolor": "white",
            "showbackground": true,
            "ticks": "",
            "zerolinecolor": "white"
           },
           "zaxis": {
            "backgroundcolor": "#E5ECF6",
            "gridcolor": "white",
            "gridwidth": 2,
            "linecolor": "white",
            "showbackground": true,
            "ticks": "",
            "zerolinecolor": "white"
           }
          },
          "shapedefaults": {
           "line": {
            "color": "#2a3f5f"
           }
          },
          "ternary": {
           "aaxis": {
            "gridcolor": "white",
            "linecolor": "white",
            "ticks": ""
           },
           "baxis": {
            "gridcolor": "white",
            "linecolor": "white",
            "ticks": ""
           },
           "bgcolor": "#E5ECF6",
           "caxis": {
            "gridcolor": "white",
            "linecolor": "white",
            "ticks": ""
           }
          },
          "title": {
           "x": 0.05
          },
          "xaxis": {
           "automargin": true,
           "gridcolor": "white",
           "linecolor": "white",
           "ticks": "",
           "title": {
            "standoff": 15
           },
           "zerolinecolor": "white",
           "zerolinewidth": 2
          },
          "yaxis": {
           "automargin": true,
           "gridcolor": "white",
           "linecolor": "white",
           "ticks": "",
           "title": {
            "standoff": 15
           },
           "zerolinecolor": "white",
           "zerolinewidth": 2
          }
         }
        },
        "title": {
         "text": "Railway Map with Bridges, Joints, and Turnouts"
        },
        "width": 1200
       }
      }
     },
     "metadata": {},
     "output_type": "display_data"
    }
   ],
   "source": [
    "import pandas as pd\n",
    "import plotly.graph_objects as go\n",
    "from pathlib import Path\n",
    "import plotly.io as pio\n",
    "#############################################################\n",
    "# Define file paths\n",
    "base_path = (Path.cwd() / \"Data 1\").resolve()\n",
    "\n",
    "files = {\n",
    "    \"Bridge\":    str(base_path / \"converted_coordinates_Resultat_Bridge.csv\"),\n",
    "    \"RailJoint\": str(base_path / \"converted_coordinates_Resultat_RailJoint.csv\"),\n",
    "    \"Turnout\":   str(base_path / \"converted_coordinates_Turnout.csv\"),\n",
    "}\n",
    "#############################################################\n",
    "\n",
    "# Define marker styles with different colors and sizes\n",
    "marker_styles = {\n",
    "    \"Bridge\": {\"color\": \"red\", \"size\": 10},\n",
    "    \"RailJoint\": {\"color\": \"blue\", \"size\": 8},\n",
    "    \"Turnout\": {\"color\": \"green\", \"size\": 12}\n",
    "}\n",
    "\n",
    "# Load data\n",
    "data_frames = []\n",
    "for category, file in files.items():\n",
    "    try:\n",
    "        df = pd.read_csv(file, encoding=\"utf-8\")  # Load CSV with UTF-8 encoding\n",
    "        df.columns = df.columns.str.strip()  # Strip column names of extra spaces\n",
    "        if \"Latitude\" in df.columns and \"Longitude\" in df.columns:\n",
    "            df[\"Latitude\"] = pd.to_numeric(df[\"Latitude\"], errors=\"coerce\")  # Convert Latitude to numeric\n",
    "            df[\"Longitude\"] = pd.to_numeric(df[\"Longitude\"], errors=\"coerce\")  # Convert Longitude to numeric\n",
    "            df = df[[\"Latitude\", \"Longitude\"]]  # Select necessary columns\n",
    "            df[\"Category\"] = category  # Add category column\n",
    "            data_frames.append(df)\n",
    "            print(f\"Successfully loaded {category} data: {len(df)} rows\")\n",
    "        else:\n",
    "            print(f\"Warning: {category} file does not contain 'Latitude' and 'Longitude' columns.\")\n",
    "            print(f\"Available columns: {df.columns.tolist()}\")\n",
    "    except Exception as e:\n",
    "        print(f\"Error loading {category}: {e}\")\n",
    "\n",
    "# Combine all data\n",
    "if data_frames:\n",
    "    data = pd.concat(data_frames, ignore_index=True)\n",
    "else:\n",
    "    raise ValueError(\"No valid data found. Check your CSV files.\")\n",
    "\n",
    "# Debugging: Check if all categories exist\n",
    "print(\"Data counts per category:\\n\", data[\"Category\"].value_counts())\n",
    "\n",
    "# Check if latitude and longitude values are valid\n",
    "print(\"Data summary:\\n\", data.describe())\n",
    "\n",
    "# Check for missing values in the data\n",
    "print(\"Missing values per column:\\n\", data.isnull().sum())\n",
    "\n",
    "# Drop rows with missing Latitude or Longitude values (if any)\n",
    "data = data.dropna(subset=[\"Latitude\", \"Longitude\"])\n",
    "\n",
    "# Add additional debugging to check data before plotting\n",
    "for category in marker_styles.keys():\n",
    "    category_data = data[data[\"Category\"] == category]\n",
    "    print(f\"{category}: {len(category_data)} rows\")\n",
    "    if len(category_data) > 0:\n",
    "        print(f\"Sample coordinates for {category}:\")\n",
    "        print(category_data[[\"Latitude\", \"Longitude\"]].head(2))\n",
    "    else:\n",
    "        print(f\"WARNING: No data for {category}!\")\n",
    "\n",
    "# Create a Plotly map with custom size (width x height in pixels)\n",
    "fig = go.Figure()\n",
    "\n",
    "# Add each category as a separate trace\n",
    "for category, style in marker_styles.items():\n",
    "    category_data = data[data[\"Category\"] == category]\n",
    "    \n",
    "    if len(category_data) > 0:\n",
    "        fig.add_trace(go.Scattermapbox(\n",
    "            lat=category_data[\"Latitude\"],\n",
    "            lon=category_data[\"Longitude\"],\n",
    "            mode=\"markers\",\n",
    "            marker=dict(\n",
    "                color=style[\"color\"],\n",
    "                size=style[\"size\"]\n",
    "            ),\n",
    "            name=category\n",
    "        ))\n",
    "    else:\n",
    "        print(f\"Skipping {category} - no data available\")\n",
    "\n",
    "# Update layout for the map with custom size\n",
    "fig.update_layout(\n",
    "    mapbox_style=\"open-street-map\",\n",
    "    title=\"Railway Map with Bridges, Joints, and Turnouts\",\n",
    "    legend_title_text=\"Legend\",\n",
    "    width=1200,  # Set the width of the figure in pixels\n",
    "    height=800,  # Set the height of the figure in pixels\n",
    "    margin={\"r\": 0, \"t\": 50, \"l\": 50, \"b\": 0},\n",
    "    mapbox=dict(\n",
    "        zoom=10,\n",
    "        center=dict(lat=data[\"Latitude\"].mean(), lon=data[\"Longitude\"].mean())  # Center map around the data\n",
    "    )\n",
    ")\n",
    "\n",
    "# Check if we have any traces\n",
    "if len(fig.data) == 0:\n",
    "    print(\"WARNING: No valid traces were added to the figure. Check your data!\")\n",
    "\n",
    "# Show the figure\n",
    "fig.show()\n",
    "\n",
    "# Save the figure as picture\n",
    "pio.write_image(fig, \"railway_map.png\", format='png')"
   ]
  }
 ],
 "metadata": {
  "kernelspec": {
   "display_name": "railenv",
   "language": "python",
   "name": "python3"
  },
  "language_info": {
   "codemirror_mode": {
    "name": "ipython",
    "version": 3
   },
   "file_extension": ".py",
   "mimetype": "text/x-python",
   "name": "python",
   "nbconvert_exporter": "python",
   "pygments_lexer": "ipython3",
   "version": "3.12.11"
  }
 },
 "nbformat": 4,
 "nbformat_minor": 2
}
